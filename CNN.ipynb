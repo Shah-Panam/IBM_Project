{
  "nbformat": 4,
  "nbformat_minor": 0,
  "metadata": {
    "colab": {
      "provenance": []
    },
    "kernelspec": {
      "name": "python3",
      "display_name": "Python 3"
    },
    "language_info": {
      "name": "python"
    }
  },
  "cells": [
    {
      "cell_type": "code",
      "execution_count": 1,
      "metadata": {
        "id": "p-rdea7WTGLY"
      },
      "outputs": [],
      "source": [
        "import tensorflow as tf\n",
        "from tensorflow import keras\n",
        "from tensorflow.keras import layers\n",
        "from tensorflow.keras.models import Sequential\n"
      ]
    },
    {
      "cell_type": "code",
      "source": [
        "# Load the CIFAR-10 dataset\n",
        "(x_train, y_train), (x_test, y_test) = keras.datasets.cifar10.load_data()\n"
      ],
      "metadata": {
        "colab": {
          "base_uri": "https://localhost:8080/"
        },
        "id": "qN7_4WG6TOsW",
        "outputId": "d4a10a50-5a0a-4cfe-d8cf-1369876e4b55"
      },
      "execution_count": 2,
      "outputs": [
        {
          "output_type": "stream",
          "name": "stdout",
          "text": [
            "Downloading data from https://www.cs.toronto.edu/~kriz/cifar-10-python.tar.gz\n",
            "170498071/170498071 [==============================] - 6s 0us/step\n"
          ]
        }
      ]
    },
    {
      "cell_type": "code",
      "source": [
        "# Preprocess the data\n",
        "x_train = x_train.astype('float32') / 255.0\n",
        "x_test = x_test.astype('float32') / 255.0"
      ],
      "metadata": {
        "id": "930mEtveTSsz"
      },
      "execution_count": 3,
      "outputs": []
    },
    {
      "cell_type": "code",
      "source": [
        "# Define the model\n",
        "model = Sequential([\n",
        "    layers.Conv2D(32, (3, 3), activation='relu', input_shape=(32, 32, 3)),\n",
        "    layers.MaxPooling2D((2, 2)),\n",
        "    layers.Conv2D(64, (3, 3), activation='relu'),\n",
        "    layers.MaxPooling2D((2, 2)),\n",
        "    layers.Conv2D(64, (3, 3), activation='relu'),\n",
        "    layers.Flatten(),\n",
        "    layers.Dense(64, activation='relu'),\n",
        "    layers.Dense(1, activation='sigmoid')\n",
        "])"
      ],
      "metadata": {
        "id": "JQc91TUkTXoz"
      },
      "execution_count": 4,
      "outputs": []
    },
    {
      "cell_type": "code",
      "source": [
        "# Compile the model\n",
        "model.compile(optimizer='adam',\n",
        "              loss='binary_crossentropy',\n",
        "              metrics=['accuracy'])\n"
      ],
      "metadata": {
        "id": "1-jDTv39TbAW"
      },
      "execution_count": 5,
      "outputs": []
    },
    {
      "cell_type": "code",
      "source": [
        "# Train the model\n",
        "model.fit(x_train, y_train, epochs=10, validation_data=(x_test, y_test))\n"
      ],
      "metadata": {
        "colab": {
          "base_uri": "https://localhost:8080/"
        },
        "id": "Z1lUTDuWTe2K",
        "outputId": "34cdc21a-c6e5-4763-d491-b0c7cbeef2fa"
      },
      "execution_count": 6,
      "outputs": [
        {
          "output_type": "stream",
          "name": "stdout",
          "text": [
            "Epoch 1/10\n",
            "1563/1563 [==============================] - 80s 51ms/step - loss: -13877354954752.0000 - accuracy: 0.1001 - val_loss: -79754254352384.0000 - val_accuracy: 0.1000\n",
            "Epoch 2/10\n",
            "1563/1563 [==============================] - 77s 49ms/step - loss: -589464732696576.0000 - accuracy: 0.1000 - val_loss: -1577073336385536.0000 - val_accuracy: 0.1000\n",
            "Epoch 3/10\n",
            "1563/1563 [==============================] - 79s 50ms/step - loss: -4122148012556288.0000 - accuracy: 0.1000 - val_loss: -7879507809665024.0000 - val_accuracy: 0.1000\n",
            "Epoch 4/10\n",
            "1563/1563 [==============================] - 79s 50ms/step - loss: -14707315567493120.0000 - accuracy: 0.1000 - val_loss: -23805575645102080.0000 - val_accuracy: 0.1000\n",
            "Epoch 5/10\n",
            "1563/1563 [==============================] - 78s 50ms/step - loss: -37892593782095872.0000 - accuracy: 0.1000 - val_loss: -55642465255817216.0000 - val_accuracy: 0.1000\n",
            "Epoch 6/10\n",
            "1563/1563 [==============================] - 81s 52ms/step - loss: -80759644456222720.0000 - accuracy: 0.1000 - val_loss: -111500426200743936.0000 - val_accuracy: 0.1000\n",
            "Epoch 7/10\n",
            "1563/1563 [==============================] - 77s 49ms/step - loss: -152283940994940928.0000 - accuracy: 0.1000 - val_loss: -201252667022901248.0000 - val_accuracy: 0.1000\n",
            "Epoch 8/10\n",
            "1563/1563 [==============================] - 79s 50ms/step - loss: -263184394624172032.0000 - accuracy: 0.1000 - val_loss: -336793605727322112.0000 - val_accuracy: 0.1000\n",
            "Epoch 9/10\n",
            "1563/1563 [==============================] - 79s 51ms/step - loss: -426909132063244288.0000 - accuracy: 0.1000 - val_loss: -533001971100024832.0000 - val_accuracy: 0.1000\n",
            "Epoch 10/10\n",
            "1563/1563 [==============================] - 78s 50ms/step - loss: -658245450834378752.0000 - accuracy: 0.1000 - val_loss: -804688098867806208.0000 - val_accuracy: 0.1000\n"
          ]
        },
        {
          "output_type": "execute_result",
          "data": {
            "text/plain": [
              "<keras.callbacks.History at 0x7f0c182b08b0>"
            ]
          },
          "metadata": {},
          "execution_count": 6
        }
      ]
    },
    {
      "cell_type": "code",
      "source": [
        "# Use the model to compare two images\n",
        "img1 = keras.preprocessing.image.load_img('/content/Imagek.jfif', target_size=(32, 32))\n",
        "img2 = keras.preprocessing.image.load_img('/content/image1.jfif', target_size=(32, 32))\n",
        "x1 = keras.preprocessing.image.img_to_array(img1) / 255.0\n",
        "x2 = keras.preprocessing.image.img_to_array(img2) / 255.0\n",
        "x1 = tf.expand_dims(x1, 0)\n",
        "x2 = tf.expand_dims(x2, 0)\n",
        "y1 = model.predict(x1)\n",
        "y2 = model.predict(x2)\n",
        "print('Prediction for image1:', y1)\n",
        "print('Prediction for imagek:', y2)\n",
        "if abs(y1 - y2) < 0.1:\n",
        "    print('The two images are similar.')\n",
        "else:\n",
        "    print('The two images are different.')"
      ],
      "metadata": {
        "colab": {
          "base_uri": "https://localhost:8080/"
        },
        "id": "57Ng7pteTiNM",
        "outputId": "e20815b3-f1bb-49f4-c81d-1f1519981a03"
      },
      "execution_count": 8,
      "outputs": [
        {
          "output_type": "stream",
          "name": "stdout",
          "text": [
            "1/1 [==============================] - 0s 139ms/step\n",
            "1/1 [==============================] - 0s 25ms/step\n",
            "Prediction for image1: [[1.]]\n",
            "Prediction for imagek: [[1.]]\n",
            "The two images are similar.\n"
          ]
        }
      ]
    }
  ]
}